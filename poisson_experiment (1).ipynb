{
 "cells": [
  {
   "cell_type": "code",
   "execution_count": 1,
   "metadata": {},
   "outputs": [],
   "source": [
    "import numpy as np\n",
    "import matplotlib.pyplot as plt\n",
    "%matplotlib inline\n",
    "import scipy\n",
    "from scipy import special"
   ]
  },
  {
   "cell_type": "code",
   "execution_count": 18,
   "metadata": {
    "scrolled": false
   },
   "outputs": [
    {
     "data": {
      "image/png": "[encoded data removed]",
      "text/plain": [
       "<Figure size 432x288 with 1 Axes>"
      ]
     },
     "metadata": {},
     "output_type": "display_data"
    },
    {
     "name": "stdout",
     "output_type": "stream",
     "text": [
      "[ 0.  1.  1.  2.  3. 10. 13.  9. 19.  7. 16.  8.  3.  5.  0.  1.  2.  0.]\n",
      "[0.09050314 0.81189533 0.06322489 0.31419456 1.11799833 0.29626533\n",
      " 0.32408332 1.13327295 2.61604297 2.16687304 3.3350327  0.00386416\n",
      " 1.1762465  0.48771218 2.25417608 0.06938509 2.37152101 0.36203581]\n",
      "18.99432735829083 1.1871454598931768\n"
     ]
    }
   ],
   "source": [
    "c = np.array([8,8,12,8,7,12,11,6,4,8,14,10,9,6,11,7,8,14,16,6,9,12,10,11,9,7,17,9,11,9,13,9,10,9,9,12,6,7,11,8,12,9,14,7,12,5,11,7,7,5,2,6,8,6,5,3,10,12,7,11,11,9,7,7,9,12,10,10,6,9,11,8,9,11,7,4,11,9,11,9,13,11,6,8,9,11,6,14,14,13,7,17,9,10,6,7,11,9,9,11])\n",
    "m = np.linspace(1, 18, 18)\n",
    "bin_e = np.linspace(.5, 18.5, 19)\n",
    "m_avg = np.sum(c)/100\n",
    "def P(m):\n",
    "    return(np.exp(-m_avg))*((m_avg**m)/(scipy.special.gamma(m+1)))\n",
    "\n",
    "(n, bins, patches) = plt.hist(c, bin_e, facecolor='orange', edgecolor='black', density=False, label='hst')\n",
    "plt.plot(m, 100*P(m), '-', color ='black')\n",
    "plt.show()\n",
    "print(n)\n",
    "\n",
    "chisq = ((n - 100*P(m))**2)/(100*P(m))\n",
    "chisq1 = np.sum(chisq)\n",
    "chisqr = chisq1/16\n",
    "alpha = 0.1\n",
    "\n",
    "print(chisq)\n",
    "print(chisq1, chisqr)\n",
    "\n",
    "#print(m_avg, P(m), m, n)"
   ]
  },
  {
   "cell_type": "code",
   "execution_count": null,
   "metadata": {},
   "outputs": [],
   "source": []
  }
 ],
 "metadata": {
  "kernelspec": {
   "display_name": "Python 3",
   "language": "python",
   "name": "python3"
  },
  "language_info": {
   "codemirror_mode": {
    "name": "ipython",
    "version": 3
   },
   "file_extension": ".py",
   "mimetype": "text/x-python",
   "name": "python",
   "nbconvert_exporter": "python",
   "pygments_lexer": "ipython3",
   "version": "3.6.5"
  }
 },
 "nbformat": 4,
 "nbformat_minor": 2
}
