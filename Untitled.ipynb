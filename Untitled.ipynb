{
 "cells": [
  {
   "cell_type": "code",
   "execution_count": 18,
   "metadata": {},
   "outputs": [],
   "source": [
    "import numpy as np\n",
    "import matplotlib.pyplot as plt\n",
    "%matplotlib inline\n",
    "import scipy\n",
    "from scipy import optimize"
   ]
  },
  {
   "cell_type": "code",
   "execution_count": 20,
   "metadata": {},
   "outputs": [
    {
     "data": {
      "text/plain": [
       "Text(0.15, 0.8, 'chisq: 94910833160.25')"
      ]
     },
     "execution_count": 20,
     "metadata": {},
     "output_type": "execute_result"
    },
    {
     "data": {
      "image/png": "[encoded data removed]",
      "text/plain": [
       "<Figure size 432x288 with 1 Axes>"
      ]
     },
     "metadata": {
      "needs_background": "light"
     },
     "output_type": "display_data"
    }
   ],
   "source": [
    "x = np.array([31.93, 25.39, 18.97, 12.37, 8.86, 5.30, 1.76, 0.00])\n",
    "I = np.array([.36, .38, .47, .82, 1.25, 2.07, 4.00, 4.35])\n",
    "I_bg = I - 0.484\n",
    "lnI = np.log(I)\n",
    "\n",
    "sigma = ([.000132, .000144, .000218, .000674, .001559, .004302, .015969, .018793])\n",
    " \n",
    "\n",
    "\n",
    "\n",
    "\n",
    "\n",
    "\n",
    "def model(x, I0, mu):\n",
    "    return I0*np.exp(-mu*x)\n",
    "\n",
    "init_guess = [1,.2]\n",
    "fit = scipy.optimize.curve_fit(model, x, I, sigma = sigma, p0=init_guess, absolute_sigma=True)\n",
    "ans, cov = fit\n",
    "fit_I0, fit_mu = ans\n",
    "\n",
    "plt.errorbar(x, I, sigma, fmt='x', label = \"data\")\n",
    "\n",
    "t = np.linspace(0,37)\n",
    "plt.plot(t, model(t, fit_I0, fit_mu), label ='model')\n",
    "plt.legend()\n",
    "\n",
    "chisq = np.sum(((x - model(x, fit_I0, fit_mu))/sigma)**2)\n",
    "plt.figtext(0.15, 0.8, \"chisq: %.2f\"%chisq,fontweight='bold')"
   ]
  },
  {
   "cell_type": "code",
   "execution_count": null,
   "metadata": {},
   "outputs": [],
   "source": []
  }
 ],
 "metadata": {
  "kernelspec": {
   "display_name": "Python 3",
   "language": "python",
   "name": "python3"
  },
  "language_info": {
   "codemirror_mode": {
    "name": "ipython",
    "version": 3
   },
   "file_extension": ".py",
   "mimetype": "text/x-python",
   "name": "python",
   "nbconvert_exporter": "python",
   "pygments_lexer": "ipython3",
   "version": "3.6.7"
  }
 },
 "nbformat": 4,
 "nbformat_minor": 2
}
